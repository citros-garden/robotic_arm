{
 "cells": [
  {
   "attachments": {},
   "cell_type": "markdown",
   "metadata": {},
   "source": [
    "This is a simple example of inverse kinematics for Doosan robot"
   ]
  },
  {
   "cell_type": "code",
   "execution_count": 8,
   "metadata": {},
   "outputs": [],
   "source": [
    "import ikpy.chain\n",
    "import numpy as np"
   ]
  },
  {
   "attachments": {},
   "cell_type": "markdown",
   "metadata": {},
   "source": [
    "Using [ikpy](https://github.com/Phylliade/ikpy/blob/master/tutorials/Quickstart.ipynb) to solve the inverse kinematics of the robot:"
   ]
  },
  {
   "cell_type": "code",
   "execution_count": 21,
   "metadata": {},
   "outputs": [
    {
     "name": "stdout",
     "output_type": "stream",
     "text": [
      "The angles of each joints are : [0.000, 0.726, 0.645, 1.226, -6.171, 2.922]\n",
      "Computed position vector : [0.5 0.5 0.5], original position vector : [0.5, 0.5, 0.5]\n"
     ]
    }
   ],
   "source": [
    "\n",
    "# Import the robot\n",
    "robot_filepath = \"/workspaces/citros_example_robotic_arm/ros2_ws/src/robotic_arm_environment/my_doosan_pkg/description/urdf/a0912.blue.urdf\"\n",
    "my_chain = ikpy.chain.Chain.from_urdf_file(robot_filepath, base_elements=[\"base_0\"])\n",
    "\n",
    "# Set target\n",
    "target_position = [ 0.5, 0.5,0.5]\n",
    "\n",
    "# Calculate IK\n",
    "joints_angles = my_chain.inverse_kinematics(target_position)\n",
    "print(f\"The angles of each joints are : [{joints_angles[0]:.3f}, {joints_angles[1]:.3f}, {joints_angles[2]:.3f}, \\\n",
    "{joints_angles[3]:.3f}, {joints_angles[4]:.3f}, {joints_angles[5]:.3f}]\", )\n",
    "\n",
    "# Verify results:\n",
    "real_frame = my_chain.forward_kinematics(my_chain.inverse_kinematics(target_position))\n",
    "print(\"Computed position vector : %s, original position vector : %s\" % (real_frame[:3, 3], target_position))\n"
   ]
  },
  {
   "cell_type": "markdown",
   "metadata": {},
   "source": []
  }
 ],
 "metadata": {
  "kernelspec": {
   "display_name": "Python 3",
   "language": "python",
   "name": "python3"
  },
  "language_info": {
   "codemirror_mode": {
    "name": "ipython",
    "version": 3
   },
   "file_extension": ".py",
   "mimetype": "text/x-python",
   "name": "python",
   "nbconvert_exporter": "python",
   "pygments_lexer": "ipython3",
   "version": "3.8.10"
  },
  "orig_nbformat": 4,
  "vscode": {
   "interpreter": {
    "hash": "916dbcbb3f70747c44a77c7bcd40155683ae19c65e1c03b4aa3499c5328201f1"
   }
  }
 },
 "nbformat": 4,
 "nbformat_minor": 2
}
